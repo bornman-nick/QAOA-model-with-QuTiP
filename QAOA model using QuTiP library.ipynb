{
 "cells": [
  {
   "cell_type": "markdown",
   "id": "7a5c912b",
   "metadata": {},
   "source": [
    "# QAOA - quTip version"
   ]
  },
  {
   "cell_type": "markdown",
   "id": "d3c5c170",
   "metadata": {},
   "source": [
    "## Preamble & modules"
   ]
  },
  {
   "cell_type": "code",
   "execution_count": null,
   "id": "a0448f93",
   "metadata": {},
   "outputs": [],
   "source": [
    "# IPython.Application.instance().kernel.do_shutdown(True)"
   ]
  },
  {
   "cell_type": "code",
   "execution_count": 1,
   "id": "dc6b9c1a",
   "metadata": {},
   "outputs": [],
   "source": [
    "%matplotlib inline\n",
    "\n",
    "import qutip as qt\n",
    "import numpy as np\n",
    "import matplotlib.pyplot as plt\n",
    "# import datetime as dt\n",
    "# import os\n",
    "\n",
    "import itertools as itt\n",
    "\n",
    "from tqdm import tqdm\n",
    "\n",
    "import networkx as nx\n",
    "\n",
    "from qutip_qip.operations import gate_sequence_product, snot, rx, ry, rz, qrot\n",
    "from qutip_qip.circuit import QubitCircuit, Gate\n",
    "from IPython.display import Image\n",
    "\n",
    "import sys"
   ]
  },
  {
   "cell_type": "markdown",
   "id": "f0688e1c",
   "metadata": {},
   "source": [
    "## System parameters"
   ]
  },
  {
   "cell_type": "code",
   "execution_count": 2,
   "id": "1e241497",
   "metadata": {},
   "outputs": [],
   "source": [
    "# sys_dims = [2,2,2,2,2,2,2]\n",
    "# num_qubits = len(sys_dims)\n",
    "\n",
    "sys_dims = [2,2,2,2]\n",
    "num_qubits = len(sys_dims)"
   ]
  },
  {
   "cell_type": "code",
   "execution_count": 3,
   "id": "253e1db9",
   "metadata": {},
   "outputs": [
    {
     "name": "stdout",
     "output_type": "stream",
     "text": [
      "[(0, 1), (1, 2), (2, 3)]\n"
     ]
    }
   ],
   "source": [
    "# graph = [(i, i+1) for i in range(6)]\n",
    "# print(graph)\n",
    "\n",
    "graph = [(i, i+1) for i in range(num_qubits-1)]\n",
    "print(graph)"
   ]
  },
  {
   "cell_type": "code",
   "execution_count": 4,
   "id": "e875de1b",
   "metadata": {},
   "outputs": [
    {
     "data": {
      "image/png": "[encoded data removed]",
      "text/plain": [
       "<Figure size 432x288 with 1 Axes>"
      ]
     },
     "metadata": {},
     "output_type": "display_data"
    }
   ],
   "source": [
    "G = nx.DiGraph()\n",
    "G.add_edges_from([('0', '1'), ('1', '2'), ('2', '3'), ('3', '4'), ('4', '5'), ('5', '6'), ('6', '7')])\n",
    "\n",
    "positions = {'0': [0,0], '1': [1,0], '2': [2,0], '3': [3,0], '4': [4,0], '5': [5,0], '6': [6,0], '7': [7,0]}\n",
    "\n",
    "nx.draw_networkx_nodes(G, pos = positions, node_size = 500)\n",
    "nx.draw_networkx_labels(G, pos = positions)\n",
    "nx.draw_networkx_edges(G, pos = positions, arrows=False)\n",
    "plt.show()"
   ]
  },
  {
   "cell_type": "code",
   "execution_count": 5,
   "id": "38401be0",
   "metadata": {},
   "outputs": [],
   "source": [
    "psi0 = qt.basis(sys_dims, [0]*num_qubits)"
   ]
  },
  {
   "cell_type": "markdown",
   "id": "d013b135",
   "metadata": {},
   "source": [
    "## Gates"
   ]
  },
  {
   "cell_type": "markdown",
   "id": "2e49d1dd",
   "metadata": {},
   "source": [
    "Qubits are numbered from left to right (like is the convention in most of the literature, but not the convention that Rigetti adopts). So, in |i1, i2, ..., in >, i1 is the 0'th qubit, i2 the 1st qubit, etc. (*NOTE: I should maybe change this convention later*)."
   ]
  },
  {
   "cell_type": "code",
   "execution_count": null,
   "id": "eb6fcaaf",
   "metadata": {},
   "outputs": [],
   "source": [
    "# q = QubitCircuit(3, reverse_states=False)\n",
    "# q.add_gate(\"CNOT\", controls=[0], targets=[2])\n",
    "\n",
    "# q.png"
   ]
  },
  {
   "cell_type": "code",
   "execution_count": 6,
   "id": "3ce6e419",
   "metadata": {},
   "outputs": [],
   "source": [
    "def hadamard(list_of_qubits):\n",
    "    # list must be integer positions of qubits to which\n",
    "    # you wish to apply a hadamard\n",
    "    had_list = []\n",
    "    for i in range(num_qubits):\n",
    "        if i in list_of_qubits:\n",
    "            had_list.append(snot())\n",
    "        else:\n",
    "            had_list.append(qt.qeye(2))\n",
    "    return qt.tensor(had_list)"
   ]
  },
  {
   "cell_type": "code",
   "execution_count": 7,
   "id": "88314d46",
   "metadata": {},
   "outputs": [],
   "source": [
    "def sigmaZ(list_of_qubits):\n",
    "    # list must be integer positions of qubits to which\n",
    "    # you wish to apply the sigma Z operation\n",
    "    sigmaZ_list = []\n",
    "    for i in range(num_qubits):\n",
    "        if i in list_of_qubits:\n",
    "            sigmaZ_list.append(qt.sigmaz())\n",
    "        else:\n",
    "            sigmaZ_list.append(qt.qeye(2))\n",
    "    return qt.tensor(sigmaZ_list)\n",
    "\n",
    "def sigmaY(list_of_qubits):\n",
    "    # list must be integer positions of qubits to which\n",
    "    # you wish to apply the sigma Y operations\n",
    "    sigmaY_list = []\n",
    "    for i in range(num_qubits):\n",
    "        if i in list_of_qubits:\n",
    "            sigmaY_list.append(qt.sigmay())\n",
    "        else:\n",
    "            sigmaY_list.append(qt.qeye(2))\n",
    "    return qt.tensor(sigmaY_list)\n",
    "\n",
    "def sigmaX(list_of_qubits):\n",
    "    # list must be integer positions of qubits to which\n",
    "    # you wish to apply the sigma X operations\n",
    "    sigmaX_list = []\n",
    "    for i in range(num_qubits):\n",
    "        if i in list_of_qubits:\n",
    "            sigmaX_list.append(qt.sigmax())\n",
    "        else:\n",
    "            sigmaX_list.append(qt.qeye(2))\n",
    "    return qt.tensor(sigmaX_list)"
   ]
  },
  {
   "cell_type": "markdown",
   "id": "24c61a63",
   "metadata": {},
   "source": [
    "Note: take care with qubit angles below. Sohaib defines the R_z(\\phi) gate as ((e^{-i*\\phi}, 0), (0, e^{i*\\phi})), whereas rz, in qutip, is rz(\\phi) = ((e^{-i*\\phi/2}, 0), (0, e^{i*\\phi/2})). The same holds for R_x and R_y, and I've hence changed my definitions below to match Sohaib's."
   ]
  },
  {
   "cell_type": "code",
   "execution_count": 8,
   "id": "22621e2b",
   "metadata": {},
   "outputs": [],
   "source": [
    "def rotateZ(dict_of_qubit_angles):\n",
    "    # dictionary must be one with qubits, as integers, as the\n",
    "    # keys and angles as numpy object in radians. Be careful with angles!\n",
    "    rotateZ_list = []\n",
    "    for i in range(num_qubits):\n",
    "        if i in list(dict_of_qubit_angles.keys()):\n",
    "            rotateZ_list.append(rz(2*dict_of_qubit_angles[i]))\n",
    "        else:\n",
    "            rotateZ_list.append(qt.qeye(2))\n",
    "    return qt.tensor(rotateZ_list)\n",
    "\n",
    "def rotateX(dict_of_qubit_angles):\n",
    "    # dictionary must be one with qubits, as integers, as the\n",
    "    # keys and angles as numpy object in radians. Be careful with angles!\n",
    "    rotateX_list = []\n",
    "    for i in range(num_qubits):\n",
    "        if i in list(dict_of_qubit_angles.keys()):\n",
    "            rotateX_list.append(rx(2*dict_of_qubit_angles[i]))\n",
    "        else:\n",
    "            rotateX_list.append(qt.qeye(2))\n",
    "    return qt.tensor(rotateX_list)\n",
    "\n",
    "def rotateY(dict_of_qubit_angles):\n",
    "    # dictionary must be one with qubits, as integers, as the\n",
    "    # keys and angles as numpy object in radians. Be careful with angles!\n",
    "    rotateY_list = []\n",
    "    for i in range(num_qubits):\n",
    "        if i in list(dict_of_qubit_angles.keys()):\n",
    "            rotateY_list.append(ry(2*dict_of_qubit_angles[i]))\n",
    "        else:\n",
    "            rotateY_list.append(qt.qeye(2))\n",
    "    return qt.tensor(rotateY_list)"
   ]
  },
  {
   "cell_type": "code",
   "execution_count": 9,
   "id": "3c2f6a9d",
   "metadata": {},
   "outputs": [],
   "source": [
    "def projector_ground(list_of_qubits):\n",
    "    # list must be integer positions of qubits to which\n",
    "    # you wish to apply the ground state projector |0><0|\n",
    "    grnd_list = []\n",
    "    grnd_proj = qt.Qobj([[1, 0], [0, 0]])\n",
    "    for i in range(num_qubits):\n",
    "        if i in list_of_qubits:\n",
    "            grnd_list.append(grnd_proj)\n",
    "        else:\n",
    "            grnd_list.append(qt.qeye(2))\n",
    "    return qt.tensor(grnd_list)\n",
    "\n",
    "def project_excited(list_of_qubits):\n",
    "    # list must be integer positions of qubits to which\n",
    "    # you wish to apply the excited state projector |1><1|\n",
    "    excite_list = []\n",
    "    excite_proj = qt.Qobj([[0, 0], [0, 1]])\n",
    "    for i in range(num_qubits):\n",
    "        if i in list_of_qubits:\n",
    "            excite_list.append(excite_proj)\n",
    "        else:\n",
    "            excite_list.append(qt.qeye(2))\n",
    "    return qt.tensor(excite_list)"
   ]
  },
  {
   "cell_type": "code",
   "execution_count": 10,
   "id": "c688949c",
   "metadata": {},
   "outputs": [],
   "source": [
    "def Cnot(control, target):\n",
    "    # control and target must be integers referring to the control\n",
    "    # and target qubits\n",
    "    q = QubitCircuit(num_qubits, reverse_states=False)\n",
    "    q.add_gate(\"CNOT\", controls=[control], targets=[target])\n",
    "    U_list = q.propagators()\n",
    "    U = gate_sequence_product(U_list)\n",
    "    return U\n",
    "\n",
    "def Cz(control, target):\n",
    "    # control and target must be integers referring to the control\n",
    "    # and target qubits\n",
    "    q = QubitCircuit(num_qubits, reverse_states=False)\n",
    "    q.add_gate(\"CZ\", controls=[control], targets=[target])\n",
    "    U_list = q.propagators()\n",
    "    U = gate_sequence_product(U_list)\n",
    "    return U"
   ]
  },
  {
   "cell_type": "markdown",
   "id": "aed39713",
   "metadata": {},
   "source": [
    "## Sanity check: get the landscape by manually exponentiating the gates (this is similar to the way one would write pyquil code for the gates)"
   ]
  },
  {
   "cell_type": "code",
   "execution_count": 11,
   "id": "f1abd2e8",
   "metadata": {},
   "outputs": [],
   "source": [
    "def ham_0_terms():\n",
    "    list_temp = [sigmaZ([i,j]) for (i, j) in graph]\n",
    "    return list_temp\n",
    "\n",
    "def ham_1_terms():\n",
    "    list_temp = [sigmaX([i]) for i in range(num_qubits)]\n",
    "    return list_temp"
   ]
  },
  {
   "cell_type": "code",
   "execution_count": 12,
   "id": "fcdf75b2",
   "metadata": {},
   "outputs": [],
   "source": [
    "def hamiltonian():\n",
    "    register = 0\n",
    "    list_temp = ham_0_terms()\n",
    "    for item in list_temp:\n",
    "        register += item\n",
    "    return register"
   ]
  },
  {
   "cell_type": "code",
   "execution_count": 13,
   "id": "7751ef88",
   "metadata": {},
   "outputs": [],
   "source": [
    "def H_0(gamma):\n",
    "    register = 1\n",
    "    list_temp = ham_0_terms()\n",
    "    for item in list_temp:\n",
    "        register = (-1j*gamma*item).expm() * register\n",
    "    return register\n",
    "\n",
    "def H_1(beta):\n",
    "    register = 1\n",
    "    list_temp = ham_1_terms()\n",
    "    for item in list_temp:\n",
    "        register = (-1j*beta*item).expm() * register\n",
    "    return register"
   ]
  },
  {
   "cell_type": "code",
   "execution_count": 14,
   "id": "2b9419af",
   "metadata": {},
   "outputs": [],
   "source": [
    "def circuit_ansatz(gamma, beta):\n",
    "    return H_1(beta)*H_0(gamma)*hadamard(range(num_qubits))"
   ]
  },
  {
   "cell_type": "code",
   "execution_count": 15,
   "id": "1b335326",
   "metadata": {},
   "outputs": [],
   "source": [
    "width = 25\n",
    "angle_list = np.linspace(0.0, np.pi, width)\n",
    "\n",
    "expectation_values = []"
   ]
  },
  {
   "cell_type": "code",
   "execution_count": 16,
   "id": "e18cc92b",
   "metadata": {},
   "outputs": [
    {
     "name": "stderr",
     "output_type": "stream",
     "text": [
      "100%|████████████████████████████████████████| 625/625 [00:05<00:00, 105.13it/s]\n"
     ]
    }
   ],
   "source": [
    "for (gamma, beta) in tqdm(list(itt.product(angle_list, repeat = 2))):\n",
    "    expect_value = qt.expect(hamiltonian(), circuit_ansatz(gamma, beta)*psi0)\n",
    "    expectation_values.append(expect_value)"
   ]
  },
  {
   "cell_type": "code",
   "execution_count": 17,
   "id": "e290b763",
   "metadata": {},
   "outputs": [],
   "source": [
    "values = np.reshape(expectation_values, [width, width], order = 'C')"
   ]
  },
  {
   "cell_type": "code",
   "execution_count": 18,
   "id": "9950b392",
   "metadata": {},
   "outputs": [
    {
     "data": {
      "image/png": "[encoded data removed]",
      "text/plain": [
       "<Figure size 432x288 with 2 Axes>"
      ]
     },
     "metadata": {
      "needs_background": "light"
     },
     "output_type": "display_data"
    }
   ],
   "source": [
    "plt.imshow(values, cmap= 'bwr', origin = 'lower', extent=[0, np.pi, 0, np.pi])\n",
    "plt.colorbar()\n",
    "plt.xlabel(r'$\\beta$')\n",
    "plt.ylabel(r'$\\gamma$')\n",
    "plt.title(r'$<H_C>$')\n",
    "plt.show()\n",
    "\n"
   ]
  },
  {
   "cell_type": "markdown",
   "id": "71e3035b",
   "metadata": {},
   "source": [
    "## Simulator using qutip and density matrices"
   ]
  },
  {
   "cell_type": "markdown",
   "id": "64d241b3",
   "metadata": {},
   "source": [
    "Note that I did not actually use density matrices below, given that the state we begin with,pis0, is pure and the evolution is unitary. As such, there is no need to use qutip's mesolve function, and one can simply use qt.expect, with the qubit state and desired operator given as inputs.\n",
    "\n",
    "However, this could easily be adapted to work with mixed initial states, and superoperators for non-unitary dynamics could also be found."
   ]
  },
  {
   "cell_type": "code",
   "execution_count": 19,
   "id": "8ec59dab",
   "metadata": {},
   "outputs": [],
   "source": [
    "Zexpectations = []"
   ]
  },
  {
   "cell_type": "code",
   "execution_count": 20,
   "id": "3adc6cb0",
   "metadata": {},
   "outputs": [
    {
     "name": "stderr",
     "output_type": "stream",
     "text": [
      "100%|████████████████████████████████████████| 625/625 [00:04<00:00, 137.77it/s]\n"
     ]
    }
   ],
   "source": [
    "# Hadamard on everyone\n",
    "had = hadamard(np.arange(num_qubits))\n",
    "\n",
    "# Hadamard on everyone but qubit 0\n",
    "almost_hadamard = hadamard(np.arange(1, num_qubits))\n",
    "\n",
    "for (gamma, beta) in tqdm(list(itt.product(angle_list, repeat = 2))):\n",
    "    \n",
    "    # Dictionary with all qubits but qubit 0 as keys, and gamma as the value\n",
    "    almost_global_rz_dict = dict.fromkeys(np.arange(1, num_qubits), gamma)\n",
    "    \n",
    "    # Rotate qubits around Z axis according to the above dictionary\n",
    "    almost_rotate_z = rotateZ(almost_global_rz_dict)\n",
    "    \n",
    "    # Dictionary with all qubits as keys, and beta as the value\n",
    "    global_rx_dict = dict.fromkeys(np.arange(num_qubits), beta)\n",
    "    \n",
    "    # Initial unitary = I\n",
    "    operator = qt.identity(sys_dims)\n",
    "    \n",
    "    # Apply global Hadamards\n",
    "    operator = had*operator\n",
    "    \n",
    "    # Rotate all but qubit 0 around Z axis by angle gamma\n",
    "    operator = almost_rotate_z*operator\n",
    "    \n",
    "    # Hadamards on everyone but qubit 0\n",
    "    operator = almost_hadamard*operator\n",
    "    \n",
    "    # CZ ladders - the action of the above almost_hadamard, plus the for loop\n",
    "    # below, is equivalent to a ladder of CNOT's\n",
    "    for i in range(num_qubits-1):\n",
    "        operator = Cz(i, i+1)*operator\n",
    "        operator = hadamard([i+1])*operator\n",
    "    \n",
    "    # Mixer term\n",
    "    operator = rotateX(global_rx_dict)*operator\n",
    "    \n",
    "    # If you want the super operator form of the above\n",
    "    # circuit, it is given by super_operator = qt.to_super(operator)\n",
    "    \n",
    "    # State before measurement.\n",
    "    new_psi = operator*psi0\n",
    "    \n",
    "    zz_list = []\n",
    "    \n",
    "    \n",
    "    for i in range(num_qubits-1):\n",
    "        zz_list.append(sigmaZ([i, i+1]))\n",
    "    \n",
    "    # Zexpect is the same as measuring the expectation\n",
    "    # value of the hamiltonian() above\n",
    "    Zexpect = sum(qt.expect(zz_list, new_psi))\n",
    "    \n",
    "    Zexpectations.append(Zexpect)"
   ]
  },
  {
   "cell_type": "code",
   "execution_count": 21,
   "id": "982929a1",
   "metadata": {},
   "outputs": [],
   "source": [
    "z_values = np.reshape(Zexpectations, [width, width], order = 'C')"
   ]
  },
  {
   "cell_type": "code",
   "execution_count": 22,
   "id": "7a7eb3a1",
   "metadata": {},
   "outputs": [
    {
     "name": "stdout",
     "output_type": "stream",
     "text": [
      "True\n"
     ]
    }
   ],
   "source": [
    "print(np.allclose(values, z_values))"
   ]
  },
  {
   "cell_type": "code",
   "execution_count": 23,
   "id": "e6161005",
   "metadata": {},
   "outputs": [
    {
     "data": {
      "image/png": "[encoded data removed]",
      "text/plain": [
       "<Figure size 432x288 with 2 Axes>"
      ]
     },
     "metadata": {
      "needs_background": "light"
     },
     "output_type": "display_data"
    }
   ],
   "source": [
    "plt.imshow(z_values, cmap= 'bwr', origin = 'lower', extent=[0, np.pi, 0, np.pi])\n",
    "plt.colorbar()\n",
    "plt.xlabel(r'$\\beta$')\n",
    "plt.ylabel(r'$\\gamma$')\n",
    "plt.title(r'$<H_C>$')\n",
    "plt.show()"
   ]
  },
  {
   "cell_type": "markdown",
   "id": "60680ca5",
   "metadata": {},
   "source": [
    "## Pauli twirling check in the absence of noise"
   ]
  },
  {
   "cell_type": "code",
   "execution_count": 24,
   "id": "acf00ec5",
   "metadata": {},
   "outputs": [],
   "source": [
    "def c(a, b):\n",
    "    return int(a + b*(3-b)*(3-2*a)/2)\n",
    "\n",
    "def d(a, b):\n",
    "    return int(b + a*(3-a)*(3-2*b)/2)"
   ]
  },
  {
   "cell_type": "code",
   "execution_count": 25,
   "id": "f6f7c8ab",
   "metadata": {},
   "outputs": [],
   "source": [
    "def pauli_op(i, q):\n",
    "    if i == 0:\n",
    "        return qt.qeye(sys_dims)\n",
    "    elif i == 1:\n",
    "        return sigmaX([q])\n",
    "    elif i == 2:\n",
    "        return sigmaY([q])\n",
    "    elif i == 3:\n",
    "        return sigmaZ([q])\n",
    "    else:\n",
    "        print(\"You stuffed up, bud.\")"
   ]
  },
  {
   "cell_type": "code",
   "execution_count": 26,
   "id": "be9e84a0",
   "metadata": {},
   "outputs": [],
   "source": [
    "number_experiments = 5\n",
    "random_paulis_for_experiments = np.random.choice([0, 1, 2, 3], size = (number_experiments, 2*num_qubits - 2))"
   ]
  },
  {
   "cell_type": "code",
   "execution_count": 27,
   "id": "dc2def06",
   "metadata": {},
   "outputs": [
    {
     "name": "stdout",
     "output_type": "stream",
     "text": [
      "\r",
      "Working on experiment: 1"
     ]
    },
    {
     "ename": "NameError",
     "evalue": "name 'sys' is not defined",
     "output_type": "error",
     "traceback": [
      "\u001b[0;31m---------------------------------------------------------------------------\u001b[0m",
      "\u001b[0;31mNameError\u001b[0m                                 Traceback (most recent call last)",
      "\u001b[0;32m/var/folders/jt/hq75dtds225ccn76_yswbd1c0000gr/T/ipykernel_21158/4184573581.py\u001b[0m in \u001b[0;36m<module>\u001b[0;34m\u001b[0m\n\u001b[1;32m     10\u001b[0m \u001b[0;34m\u001b[0m\u001b[0m\n\u001b[1;32m     11\u001b[0m     \u001b[0mprint\u001b[0m\u001b[0;34m(\u001b[0m\u001b[0;34mf\"\\rWorking on experiment: {exp_index+1}\"\u001b[0m\u001b[0;34m,\u001b[0m \u001b[0mend\u001b[0m\u001b[0;34m=\u001b[0m\u001b[0;34m\"\"\u001b[0m\u001b[0;34m)\u001b[0m\u001b[0;34m\u001b[0m\u001b[0;34m\u001b[0m\u001b[0m\n\u001b[0;32m---> 12\u001b[0;31m     \u001b[0msys\u001b[0m\u001b[0;34m.\u001b[0m\u001b[0mstdout\u001b[0m\u001b[0;34m.\u001b[0m\u001b[0mflush\u001b[0m\u001b[0;34m(\u001b[0m\u001b[0;34m)\u001b[0m\u001b[0;34m\u001b[0m\u001b[0;34m\u001b[0m\u001b[0m\n\u001b[0m\u001b[1;32m     13\u001b[0m \u001b[0;34m\u001b[0m\u001b[0m\n\u001b[1;32m     14\u001b[0m     \u001b[0mZexpectations\u001b[0m \u001b[0;34m=\u001b[0m \u001b[0;34m[\u001b[0m\u001b[0;34m]\u001b[0m\u001b[0;34m\u001b[0m\u001b[0;34m\u001b[0m\u001b[0m\n",
      "\u001b[0;31mNameError\u001b[0m: name 'sys' is not defined"
     ]
    }
   ],
   "source": [
    "# Hadamard on everyone\n",
    "had = hadamard(np.arange(num_qubits))\n",
    "\n",
    "# Hadamard on everyone but qubit 0\n",
    "almost_hadamard = hadamard(np.arange(1, num_qubits))\n",
    "\n",
    "twirled_expectations = []\n",
    "\n",
    "for exp_index, pauli_list in enumerate(random_paulis_for_experiments):\n",
    "    \n",
    "    print(f\"\\rWorking on experiment: {exp_index+1}\", end=\"\")\n",
    "    sys.stdout.flush()\n",
    "    \n",
    "    Zexpectations = []\n",
    "    \n",
    "    for (gamma, beta) in tqdm(list(itt.product(angle_list, repeat = 2))):\n",
    "        \n",
    "        # Dictionary with all qubits but qubit 0 as keys, and gamma as the value\n",
    "        almost_global_rz_dict = dict.fromkeys(np.arange(1, num_qubits), gamma)\n",
    "        \n",
    "        # Rotate qubits around Z axis according to the above dictionary\n",
    "        almost_rotate_z = rotateZ(almost_global_rz_dict)\n",
    "        \n",
    "        # Dictionary with all qubits as keys, and beta as the value\n",
    "        global_rx_dict = dict.fromkeys(np.arange(num_qubits), beta)\n",
    "        \n",
    "        # Initial unitary = I\n",
    "        operator = qt.identity(sys_dims)\n",
    "        \n",
    "        # Apply global Hadamards\n",
    "        operator = had*operator\n",
    "        \n",
    "        # Rotate all but qubit 0 around Z axis by angle gamma\n",
    "        operator = almost_rotate_z*operator\n",
    "        \n",
    "        # Hadamards on everyone but qubit 0\n",
    "        operator = almost_hadamard*operator\n",
    "        \n",
    "        # CZ ladder with twirls\n",
    "        for i in range(num_qubits-1):\n",
    "            \n",
    "            \n",
    "            # a,b,c,d indices\n",
    "            a_index = pauli_list[2*i]\n",
    "            b_index = pauli_list[2*i + 1]\n",
    "            c_index = c(a_index, b_index)\n",
    "            d_index = d(a_index, b_index)\n",
    "            \n",
    "            \n",
    "            # Pauli operators\n",
    "            pauli_a = pauli_op(a_index, i)\n",
    "            pauli_b = pauli_op(b_index, i + 1)\n",
    "            pauli_c = pauli_op(c_index, i)\n",
    "            pauli_d = pauli_op(d_index, i + 1)\n",
    "            \n",
    "            \n",
    "            operator = pauli_a*pauli_b*operator\n",
    "            \n",
    "            operator = Cz(i, i+1)*operator\n",
    "            \n",
    "            operator = pauli_c*pauli_d*operator\n",
    "            \n",
    "            operator = hadamard([i+1])*operator\n",
    "        \n",
    "        # Mixer term\n",
    "        operator = rotateX(global_rx_dict)*operator\n",
    "        \n",
    "        # If you want the super operator form of the above\n",
    "        # circuit, it is given by super_operator = qt.to_super(operator)\n",
    "        \n",
    "        # State before measurement\n",
    "        new_psi = operator*psi0\n",
    "        \n",
    "        # Zexpect is the same as measuring the expectation\n",
    "        # value of the hamiltonian() above\n",
    "        Zexpect = qt.expect(hamiltonian(), new_psi)\n",
    "\n",
    "        Zexpectations.append(Zexpect)\n",
    "\n",
    "    z_values = np.reshape(Zexpectations, [width, width], order = 'C')\n",
    "    \n",
    "    twirled_expectations.append(z_values)"
   ]
  },
  {
   "cell_type": "code",
   "execution_count": null,
   "id": "83df6011",
   "metadata": {},
   "outputs": [],
   "source": [
    "for item in twirled_expectations:\n",
    "    print(np.allclose(values, item))"
   ]
  },
  {
   "cell_type": "code",
   "execution_count": null,
   "id": "83ab1528",
   "metadata": {},
   "outputs": [],
   "source": [
    "twirled_average = np.sum(twirled_expectations, axis=0)/number_experiments\n",
    "\n",
    "print(np.allclose(values, twirled_average))"
   ]
  },
  {
   "cell_type": "code",
   "execution_count": null,
   "id": "06645c9f",
   "metadata": {},
   "outputs": [],
   "source": [
    "plt.imshow(twirled_average, cmap= 'bwr', origin = 'lower', extent=[0, np.pi, 0, np.pi])\n",
    "plt.colorbar()\n",
    "plt.xlabel(r'$\\beta$')\n",
    "plt.ylabel(r'$\\gamma$')\n",
    "plt.title(r'$<H_C>$')\n",
    "plt.show()"
   ]
  },
  {
   "cell_type": "markdown",
   "id": "4fbfb845",
   "metadata": {},
   "source": [
    "## Noise"
   ]
  },
  {
   "cell_type": "code",
   "execution_count": null,
   "id": "7285a445",
   "metadata": {},
   "outputs": [],
   "source": [
    "def damping_after_dephasing(damp_prob, dephase_prob):\n",
    "    \n",
    "    # Damping Kraus operators\n",
    "    K0damp = qt.Qobj([[1, 0],\n",
    "                      [0, np.sqrt(1-damp_prob)]])\n",
    "    K1damp = qt.Qobj([[0, np.sqrt(damp_prob)],\n",
    "                      [0, 0]])\n",
    "    \n",
    "    # Dephasing Kraus operators\n",
    "    K0deph = qt.Qobj([[np.sqrt(1-dephase_prob), 0],\n",
    "                      [0, np.sqrt(1-dephase_prob)]])\n",
    "    K1deph = qt.Qobj([[np.sqrt(dephase_prob), 0],\n",
    "                      [0, -np.sqrt(dephase_prob)]])\n",
    "    \n",
    "    kraus_ops = [K0damp*K0deph, K0damp*K1deph, K1damp*K0deph, K1damp*K1deph]\n",
    "    return kraus_ops"
   ]
  },
  {
   "cell_type": "code",
   "execution_count": null,
   "id": "e064ba48",
   "metadata": {},
   "outputs": [],
   "source": [
    "prob_damp = 0.4\n",
    "prob_deph = 0.4"
   ]
  },
  {
   "cell_type": "code",
   "execution_count": null,
   "id": "078f5e3a",
   "metadata": {},
   "outputs": [],
   "source": [
    "def kraus_on_single_qubit(j, damp_prob, dephase_prob):\n",
    "    \n",
    "    # Returns a list of four operators, corresponding\n",
    "    # to the four Kraus operators in damping_after_dephasing\n",
    "    # acting solely on qubit j.\n",
    "\n",
    "    kraus_list = damping_after_dephasing(damp_prob, dephase_prob)\n",
    "\n",
    "    listy = []\n",
    "\n",
    "    for item in kraus_list:\n",
    "        list_temp = []\n",
    "        for i in range(num_qubits):\n",
    "            if i == j:\n",
    "                list_temp.append(item)\n",
    "            else:\n",
    "                list_temp.append(qt.qeye(2))\n",
    "        listy.append(qt.tensor(list_temp))\n",
    "    \n",
    "    return listy"
   ]
  },
  {
   "cell_type": "code",
   "execution_count": null,
   "id": "8681a124",
   "metadata": {},
   "outputs": [],
   "source": [
    "# kraus_on_single_qubit(0, prob_damp, prob_deph)[0]"
   ]
  },
  {
   "cell_type": "code",
   "execution_count": null,
   "id": "6bccedce",
   "metadata": {},
   "outputs": [],
   "source": [
    "def kraus_on_two_qubits(j1, j2, damp_prob, dephase_prob):\n",
    "    \n",
    "    # Returns a list of sixteen operators, corresponding\n",
    "    # to the four Kraus operators in damping_after_dephasing\n",
    "    # acting on qubits j1 and j2.\n",
    "    \n",
    "    if j1 == j2:\n",
    "        print(\"You should probably choose a different pair of qubits to which to apply your Krauses.\")\n",
    "        return None\n",
    "\n",
    "    kraus_list = damping_after_dephasing(damp_prob, dephase_prob)\n",
    "\n",
    "    listy = []\n",
    "\n",
    "    for item1 in kraus_list:\n",
    "        for item2 in kraus_list:\n",
    "            list_temp = []\n",
    "            for i in range(num_qubits):\n",
    "                if i == j1:\n",
    "                    list_temp.append(item1)\n",
    "                elif i == j2:\n",
    "                    list_temp.append(item2)\n",
    "                else:\n",
    "                    list_temp.append(qt.qeye(2))\n",
    "            listy.append(qt.tensor(list_temp))\n",
    "    \n",
    "    return listy"
   ]
  },
  {
   "cell_type": "code",
   "execution_count": null,
   "id": "1c8d5f83",
   "metadata": {},
   "outputs": [],
   "source": [
    "# kraus_on_two_qubits(0, 1, prob_damp, prob_deph)"
   ]
  },
  {
   "cell_type": "code",
   "execution_count": null,
   "id": "4f5256e1",
   "metadata": {},
   "outputs": [],
   "source": [
    "Zexpectations = []\n",
    "\n",
    "# Hadamard on everyone\n",
    "had = hadamard(np.arange(num_qubits))\n",
    "\n",
    "# Hadamard on everyone but qubit 0\n",
    "almost_hadamard = hadamard(np.arange(1, num_qubits))\n",
    "\n",
    "for (gamma, beta) in tqdm(list(itt.product(angle_list, repeat = 2))):\n",
    "    \n",
    "    # Dictionary with all qubits but qubit 0 as keys, and gamma as the value\n",
    "    almost_global_rz_dict = dict.fromkeys(np.arange(1, num_qubits), gamma)\n",
    "    \n",
    "    # Rotate qubits around Z axis according to the above dictionary\n",
    "    almost_rotate_z = rotateZ(almost_global_rz_dict)\n",
    "    \n",
    "    # Dictionary with all qubits as keys, and beta as the value\n",
    "    global_rx_dict = dict.fromkeys(np.arange(num_qubits), beta)\n",
    "    \n",
    "    # RX(beta) on all qubits\n",
    "    global_rotate_x = rotateX(global_rx_dict)\n",
    "    \n",
    "    # Initial unitary = I\n",
    "    operator = qt.identity(sys_dims)\n",
    "    \n",
    "    # Apply global Hadamards\n",
    "    operator = had*operator\n",
    "    \n",
    "    # Rotate all but qubit 0 around Z axis by angle gamma\n",
    "    operator = almost_rotate_z*operator\n",
    "    \n",
    "    # Hadamards on everyone but qubit 0\n",
    "    operator = almost_hadamard*operator\n",
    "    \n",
    "    # Create density matrix; in the previous simaultions we\n",
    "    # were able to work with pure states as the evolution of\n",
    "    # the system was unitary and noiseless. Noise here\n",
    "    # forces us to use denisty matrix formalism\n",
    "    \n",
    "    # Density matrix before CNOTs\n",
    "    rho = qt.ket2dm(operator*psi0)\n",
    "    \n",
    "    for i in range(num_qubits-1):\n",
    "        \n",
    "        # CZ\n",
    "        rho = Cz(i, i+1)*rho*(Cz(i, i+1).dag())\n",
    "        \n",
    "        # CZ noise\n",
    "        rho_temp = qt.qzero(sys_dims)\n",
    "                \n",
    "        list_of_two_kraus = kraus_on_two_qubits(i, i+1, prob_damp, prob_deph)\n",
    "        \n",
    "        for item in list_of_two_kraus:\n",
    "            rho_temp = rho_temp + (item*rho*(item.dag()))\n",
    "        \n",
    "        rho = rho_temp\n",
    "        \n",
    "        rho = hadamard([i+1])*rho*(hadamard([i+1]).dag())\n",
    "        \n",
    "    # Global RX(beta) terms\n",
    "    \n",
    "    rho = global_rotate_x*rho*(global_rotate_x.dag())\n",
    "    \n",
    "    # Zexpect in Sohaib's code is the same as measuring the expectation\n",
    "    # value of the hamiltonian() above\n",
    "    \n",
    "    Zexpect = qt.expect(hamiltonian(), rho)\n",
    "    \n",
    "    Zexpectations.append(Zexpect)\n",
    "\n",
    "z_values = np.reshape(Zexpectations, [width, width], order = 'C')"
   ]
  },
  {
   "cell_type": "code",
   "execution_count": null,
   "id": "6a25d625",
   "metadata": {},
   "outputs": [],
   "source": [
    "plt.imshow(z_values, cmap= 'bwr', origin = 'lower', extent=[0, np.pi, 0, np.pi])\n",
    "plt.colorbar()\n",
    "plt.xlabel(r'$\\beta$')\n",
    "plt.ylabel(r'$\\gamma$')\n",
    "plt.title(r'$<H_C>$')\n",
    "plt.show()"
   ]
  },
  {
   "cell_type": "markdown",
   "id": "8bf58921",
   "metadata": {},
   "source": [
    "## Twirling with noise"
   ]
  },
  {
   "cell_type": "markdown",
   "id": "e163ec37",
   "metadata": {},
   "source": [
    "First without the twirling"
   ]
  },
  {
   "cell_type": "code",
   "execution_count": null,
   "id": "823925fe",
   "metadata": {},
   "outputs": [],
   "source": [
    "number_experiments = 5\n",
    "random_paulis_for_experiments = np.random.choice([0, 1, 2, 3], size = (number_experiments, 2*num_qubits - 2))"
   ]
  },
  {
   "cell_type": "code",
   "execution_count": null,
   "id": "a5cf636e",
   "metadata": {},
   "outputs": [],
   "source": [
    "# Hadamard on everyone\n",
    "had = hadamard(np.arange(num_qubits))\n",
    "\n",
    "# Hadamard on everyone but qubit 0\n",
    "almost_hadamard = hadamard(np.arange(1, num_qubits))\n",
    "\n",
    "twirled_expectations_noisy = []\n",
    "\n",
    "for exp_index, pauli_list in enumerate(random_paulis_for_experiments):\n",
    "    \n",
    "    print(f\"\\rWorking on experiment: {exp_index+1}\", end=\"\")\n",
    "    sys.stdout.flush()\n",
    "    \n",
    "    Zexpectations_noisy = []\n",
    "    \n",
    "    for (gamma, beta) in tqdm(list(itt.product(angle_list, repeat = 2))):\n",
    "        \n",
    "        # Dictionary with all qubits but qubit 0 as keys, and gamma as the value\n",
    "        almost_global_rz_dict = dict.fromkeys(np.arange(1, num_qubits), gamma)\n",
    "        \n",
    "        # Rotate qubits around Z axis according to the above dictionary\n",
    "        almost_rotate_z = rotateZ(almost_global_rz_dict)\n",
    "        \n",
    "        # Dictionary with all qubits as keys, and beta as the value\n",
    "        global_rx_dict = dict.fromkeys(np.arange(num_qubits), beta)\n",
    "        \n",
    "        # RX(beta) on all qubits\n",
    "        global_rotate_x = rotateX(global_rx_dict)\n",
    "        \n",
    "        # Initial unitary = I\n",
    "        operator = qt.identity(sys_dims)\n",
    "        \n",
    "        # Apply global Hadamards\n",
    "        operator = had*operator\n",
    "        \n",
    "        # Rotate all but qubit 0 around Z axis by angle gamma\n",
    "        operator = almost_rotate_z*operator\n",
    "        \n",
    "        # Hadamards on everyone but qubit 0\n",
    "        operator = almost_hadamard*operator\n",
    "        \n",
    "        # Density matrix before CNOTs\n",
    "        rho = qt.ket2dm(operator*psi0)\n",
    "        \n",
    "        # CZ ladder\n",
    "        for i in range(num_qubits-1):\n",
    "            \n",
    "            # a,b,c,d indices\n",
    "            a_index = pauli_list[2*i]\n",
    "            b_index = pauli_list[2*i + 1]\n",
    "            c_index = c(a_index, b_index)\n",
    "            d_index = d(a_index, b_index)\n",
    "            \n",
    "            # Pauli operators\n",
    "            pauli_a = pauli_op(a_index, i)\n",
    "            pauli_b = pauli_op(b_index, i + 1)\n",
    "            pauli_c = pauli_op(c_index, i)\n",
    "            pauli_d = pauli_op(d_index, i + 1)\n",
    "            \n",
    "#            pre_twirl = pauli_a*pauli_b\n",
    "#            rho = pre_twirl*rho*(pre_twirl.dag())\n",
    "            \n",
    "            # CZ\n",
    "            rho = Cz(i, i+1)*rho*(Cz(i, i+1).dag())\n",
    "            \n",
    "            # CZ noise\n",
    "            rho_temp = qt.qzero(sys_dims)\n",
    "            \n",
    "            list_of_two_kraus = kraus_on_two_qubits(i, i+1, prob_damp, prob_deph)\n",
    "            \n",
    "            for item in list_of_two_kraus:\n",
    "                rho_temp = rho_temp + (item*rho*(item.dag()))\n",
    "            \n",
    "            rho = rho_temp\n",
    "            \n",
    "#            post_twirl = pauli_c*pauli_d\n",
    "#            rho = post_twirl*rho*(post_twirl.dag())\n",
    "            \n",
    "            rho = hadamard([i+1])*rho*(hadamard([i+1]).dag())\n",
    "        \n",
    "        # Global RX(beta) terms\n",
    "        \n",
    "        rho = global_rotate_x*rho*(global_rotate_x.dag())\n",
    "        \n",
    "        # Zexpect in Sohaib's code is the same as measuring the expectation\n",
    "        # value of the hamiltonian() above\n",
    "        \n",
    "        Zexpect_noisy = qt.expect(hamiltonian(), rho)\n",
    "        \n",
    "        Zexpectations_noisy.append(Zexpect_noisy)\n",
    "        \n",
    "    z_values_noisy = np.reshape(Zexpectations_noisy, [width, width], order = 'C')\n",
    "    \n",
    "    twirled_expectations_noisy.append(z_values_noisy)"
   ]
  },
  {
   "cell_type": "code",
   "execution_count": null,
   "id": "abc67615",
   "metadata": {},
   "outputs": [],
   "source": [
    "for item in twirled_expectations_noisy:\n",
    "    print(np.allclose(z_values, item))"
   ]
  },
  {
   "cell_type": "code",
   "execution_count": null,
   "id": "a1ef9d0b",
   "metadata": {},
   "outputs": [],
   "source": [
    "twirled_noisy_average = np.sum(twirled_expectations_noisy, axis=0)/number_experiments\n",
    "\n",
    "print(np.allclose(z_values, twirled_noisy_average))"
   ]
  },
  {
   "cell_type": "code",
   "execution_count": null,
   "id": "9587d810",
   "metadata": {},
   "outputs": [],
   "source": [
    "plt.imshow(twirled_noisy_average, cmap= 'bwr', origin = 'lower', extent=[0, np.pi, 0, np.pi])\n",
    "plt.colorbar()\n",
    "plt.xlabel(r'$\\beta$')\n",
    "plt.ylabel(r'$\\gamma$')\n",
    "plt.title(r'$<H_C>$')\n",
    "plt.show()"
   ]
  },
  {
   "cell_type": "markdown",
   "id": "f782f008",
   "metadata": {},
   "source": [
    "Now with twirling"
   ]
  },
  {
   "cell_type": "code",
   "execution_count": null,
   "id": "ee089669",
   "metadata": {},
   "outputs": [],
   "source": [
    "number_experiments = 20\n",
    "random_paulis_for_experiments = np.random.choice([0, 1, 2, 3], size = (number_experiments, 2*num_qubits - 2))"
   ]
  },
  {
   "cell_type": "code",
   "execution_count": null,
   "id": "50756a44",
   "metadata": {},
   "outputs": [],
   "source": [
    "# Hadamard on everyone\n",
    "had = hadamard(np.arange(num_qubits))\n",
    "\n",
    "# Hadamard on everyone but qubit 0\n",
    "almost_hadamard = hadamard(np.arange(1, num_qubits))\n",
    "\n",
    "twirled_expectations_noisy = []\n",
    "\n",
    "for exp_index, pauli_list in enumerate(random_paulis_for_experiments):\n",
    "    \n",
    "    print(f\"\\rWorking on experiment: {exp_index+1}\", end=\"\")\n",
    "    sys.stdout.flush()\n",
    "    \n",
    "    Zexpectations_noisy = []\n",
    "    \n",
    "    for (gamma, beta) in tqdm(list(itt.product(angle_list, repeat = 2))):\n",
    "        \n",
    "        # Dictionary with all qubits but qubit 0 as keys, and gamma as the value\n",
    "        almost_global_rz_dict = dict.fromkeys(np.arange(1, num_qubits), gamma)\n",
    "        \n",
    "        # Rotate qubits around Z axis according to the above dictionary\n",
    "        almost_rotate_z = rotateZ(almost_global_rz_dict)\n",
    "        \n",
    "        # Dictionary with all qubits as keys, and beta as the value\n",
    "        global_rx_dict = dict.fromkeys(np.arange(num_qubits), beta)\n",
    "        \n",
    "        # RX(beta) on all qubits\n",
    "        global_rotate_x = rotateX(global_rx_dict)\n",
    "        \n",
    "        # Initial unitary = I\n",
    "        operator = qt.identity(sys_dims)\n",
    "        \n",
    "        # Apply global Hadamards\n",
    "        operator = had*operator\n",
    "        \n",
    "        # Rotate all but qubit 0 around Z axis by angle gamma\n",
    "        operator = almost_rotate_z*operator\n",
    "        \n",
    "        # Hadamards on everyone but qubit 0\n",
    "        operator = almost_hadamard*operator\n",
    "        \n",
    "        # Density matrix before CNOTs\n",
    "        rho = qt.ket2dm(operator*psi0)\n",
    "        \n",
    "        # CZ ladder\n",
    "        for i in range(num_qubits-1):\n",
    "            \n",
    "            # a,b,c,d indices\n",
    "            a_index = pauli_list[2*i]\n",
    "            b_index = pauli_list[2*i + 1]\n",
    "            c_index = c(a_index, b_index)\n",
    "            d_index = d(a_index, b_index)\n",
    "            \n",
    "            # Pauli operators\n",
    "            pauli_a = pauli_op(a_index, i)\n",
    "            pauli_b = pauli_op(b_index, i + 1)\n",
    "            pauli_c = pauli_op(c_index, i)\n",
    "            pauli_d = pauli_op(d_index, i + 1)\n",
    "            \n",
    "            pre_twirl = pauli_a*pauli_b\n",
    "            rho = pre_twirl*rho*(pre_twirl.dag())\n",
    "            \n",
    "            # CZ\n",
    "            rho = Cz(i, i+1)*rho*(Cz(i, i+1).dag())\n",
    "            \n",
    "            # CZ noise\n",
    "            rho_temp = qt.qzero(sys_dims)\n",
    "            \n",
    "            list_of_two_kraus = kraus_on_two_qubits(i, i+1, prob_damp, prob_deph)\n",
    "            \n",
    "            for item in list_of_two_kraus:\n",
    "                rho_temp = rho_temp + (item*rho*(item.dag()))\n",
    "            \n",
    "            rho = rho_temp\n",
    "            \n",
    "            post_twirl = pauli_c*pauli_d\n",
    "            rho = post_twirl*rho*(post_twirl.dag())\n",
    "            \n",
    "            rho = hadamard([i+1])*rho*(hadamard([i+1]).dag())\n",
    "        \n",
    "        # Global RX(beta) terms\n",
    "        \n",
    "        rho = global_rotate_x*rho*(global_rotate_x.dag())\n",
    "        \n",
    "        # Zexpect in Sohaib's code is the same as measuring the expectation\n",
    "        # value of the hamiltonian() above\n",
    "        \n",
    "        Zexpect_noisy = qt.expect(hamiltonian(), rho)\n",
    "        \n",
    "        Zexpectations_noisy.append(Zexpect_noisy)\n",
    "        \n",
    "    z_values_noisy = np.reshape(Zexpectations_noisy, [width, width], order = 'C')\n",
    "    \n",
    "    twirled_expectations_noisy.append(z_values_noisy)"
   ]
  },
  {
   "cell_type": "code",
   "execution_count": null,
   "id": "517d7b24",
   "metadata": {},
   "outputs": [],
   "source": [
    "twirled_noisy_average = np.sum(twirled_expectations_noisy, axis=0)/number_experiments\n",
    "\n",
    "print(np.allclose(z_values, twirled_noisy_average))"
   ]
  },
  {
   "cell_type": "code",
   "execution_count": null,
   "id": "c426d30c",
   "metadata": {},
   "outputs": [],
   "source": [
    "plt.imshow(twirled_noisy_average, cmap= 'bwr', origin = 'lower', extent=[0, np.pi, 0, np.pi])\n",
    "plt.colorbar()\n",
    "plt.xlabel(r'$\\beta$')\n",
    "plt.ylabel(r'$\\gamma$')\n",
    "plt.title(r'$<H_C>$')\n",
    "plt.show()"
   ]
  }
 ],
 "metadata": {
  "kernelspec": {
   "display_name": "Python 3 (ipykernel)",
   "language": "python",
   "name": "python3"
  },
  "language_info": {
   "codemirror_mode": {
    "name": "ipython",
    "version": 3
   },
   "file_extension": ".py",
   "mimetype": "text/x-python",
   "name": "python",
   "nbconvert_exporter": "python",
   "pygments_lexer": "ipython3",
   "version": "3.7.12"
  }
 },
 "nbformat": 4,
 "nbformat_minor": 5
}
